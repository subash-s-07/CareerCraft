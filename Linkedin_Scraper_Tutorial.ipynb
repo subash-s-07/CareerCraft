{
 "cells": [
  {
   "cell_type": "code",
   "execution_count": 1,
   "id": "20caac41",
   "metadata": {},
   "outputs": [],
   "source": [
    "#Import dependencies\n",
    "import requests\n",
    "from bs4 import BeautifulSoup\n",
    "import random\n",
    "import pandas as pd"
   ]
  },
  {
   "cell_type": "code",
   "execution_count": 2,
   "id": "40db598b",
   "metadata": {},
   "outputs": [],
   "source": [
    "title = \"Python Developer\"  # Job title\n",
    "location = \"Toronto\"  # Job location\n",
    "start = 0  # Starting point for pagination"
   ]
  },
  {
   "cell_type": "code",
   "execution_count": 12,
   "id": "59881a4e",
   "metadata": {},
   "outputs": [
    {
     "data": {
      "text/plain": [
       "'https://www.linkedin.com/jobs-guest/jobs/api/seeMoreJobPostings/search?keywords=Python Developer&location=Toronto&start=0'"
      ]
     },
     "execution_count": 12,
     "metadata": {},
     "output_type": "execute_result"
    }
   ],
   "source": [
    "# Construct the URL for LinkedIn job search\n",
    "list_url = f\"https://www.linkedin.com/jobs-guest/jobs/api/seeMoreJobPostings/search?keywords={title}&location={location}&start={start}\"\n",
    "\n",
    "# Send a GET request to the URL and store the response\n",
    "response = requests.get(list_url)\n",
    "\n",
    "#Get the HTML, parse the response and find all list items(jobs postings)\n",
    "list_data = response.text\n",
    "list_soup = BeautifulSoup(list_data, \"html.parser\")\n",
    "page_jobs = list_soup.find_all(\"li\")\n",
    "list_url"
   ]
  },
  {
   "cell_type": "code",
   "execution_count": 4,
   "id": "c7da6afc",
   "metadata": {},
   "outputs": [],
   "source": [
    "#Create an empty list to store the job postings\n",
    "id_list = []"
   ]
  },
  {
   "cell_type": "code",
   "execution_count": 5,
   "id": "6cc0c9c6",
   "metadata": {},
   "outputs": [
    {
     "name": "stdout",
     "output_type": "stream",
     "text": [
      "4189663170\n",
      "4184590482\n",
      "4180502683\n",
      "4177572949\n",
      "4167068605\n",
      "4173687748\n",
      "4178651543\n",
      "4187551507\n",
      "4180665520\n",
      "4174190905\n"
     ]
    }
   ],
   "source": [
    "#Itetrate through job postings to find job ids\n",
    "for job in page_jobs:\n",
    "    base_card_div = job.find(\"div\", {\"class\": \"base-card\"})\n",
    "    job_id = base_card_div.get(\"data-entity-urn\").split(\":\")[3]\n",
    "    print(job_id)\n",
    "    id_list.append(job_id)\n",
    "    "
   ]
  },
  {
   "cell_type": "code",
   "execution_count": 6,
   "id": "a0c4a8fc",
   "metadata": {},
   "outputs": [
    {
     "name": "stdout",
     "output_type": "stream",
     "text": [
      "200\n",
      "200\n",
      "200\n",
      "200\n",
      "200\n",
      "200\n",
      "200\n",
      "200\n",
      "200\n",
      "200\n"
     ]
    }
   ],
   "source": [
    "# Initialize an empty list to store job information\n",
    "job_list = []\n",
    "\n",
    "# Loop through the list of job IDs and get each URL\n",
    "for job_id in id_list:\n",
    "    # Construct the URL for each job using the job ID\n",
    "    job_url = f\"https://www.linkedin.com/jobs-guest/jobs/api/jobPosting/{job_id}\"\n",
    "    \n",
    "    # Send a GET request to the job URL and parse the reponse\n",
    "    job_response = requests.get(job_url)\n",
    "    print(job_response.status_code)\n",
    "    job_soup = BeautifulSoup(job_response.text, \"html.parser\")\n",
    "    \n",
    "     # Create a dictionary to store job details\n",
    "    job_post = {}\n",
    "    \n",
    "    # Try to extract and store the job title\n",
    "    try:\n",
    "        job_post[\"job_title\"] = job_soup.find(\"h2\", {\"class\":\"top-card-layout__title font-sans text-lg papabear:text-xl font-bold leading-open text-color-text mb-0 topcard__title\"}).text.strip()\n",
    "    except:\n",
    "        job_post[\"job_title\"] = None\n",
    "        \n",
    "    # Try to extract and store the company name\n",
    "    try:\n",
    "        job_post[\"company_name\"] = job_soup.find(\"a\", {\"class\": \"topcard__org-name-link topcard__flavor--black-link\"}).text.strip()\n",
    "    except:\n",
    "        job_post[\"company_name\"] = None\n",
    "        \n",
    "    # Try to extract and store the time posted\n",
    "    try:\n",
    "        job_post[\"time_posted\"] = job_soup.find(\"span\", {\"class\": \"posted-time-ago__text topcard__flavor--metadata\"}).text.strip()\n",
    "    except:\n",
    "        job_post[\"time_posted\"] = None\n",
    "        \n",
    "    # Try to extract and store the number of applicants\n",
    "    try:\n",
    "        job_post[\"num_applicants\"] = job_soup.find(\"span\", {\"class\": \"num-applicants__caption topcard__flavor--metadata topcard__flavor--bullet\"}).text.strip()\n",
    "    except:\n",
    "        job_post[\"num_applicants\"] = None\n",
    "    \n",
    "        \n",
    "    # Append the job details to the job_list\n",
    "    job_list.append(job_post)\n",
    "    \n",
    "    "
   ]
  },
  {
   "cell_type": "code",
   "execution_count": 7,
   "id": "bb44d930",
   "metadata": {},
   "outputs": [
    {
     "data": {
      "text/plain": [
       "[{'job_title': 'Python Developer',\n",
       "  'company_name': 'Hexaware Technologies',\n",
       "  'time_posted': '2 days ago',\n",
       "  'num_applicants': None},\n",
       " {'job_title': 'Python Developer',\n",
       "  'company_name': 'Tata Consultancy Services',\n",
       "  'time_posted': '3 days ago',\n",
       "  'num_applicants': '150 applicants'},\n",
       " {'job_title': 'Python Developer',\n",
       "  'company_name': 'Tata Consultancy Services',\n",
       "  'time_posted': '1 week ago',\n",
       "  'num_applicants': None},\n",
       " {'job_title': 'Python Developer',\n",
       "  'company_name': 'Synechron',\n",
       "  'time_posted': '1 week ago',\n",
       "  'num_applicants': '53 applicants'},\n",
       " {'job_title': 'Python Developer',\n",
       "  'company_name': 'Tata Consultancy Services',\n",
       "  'time_posted': '3 weeks ago',\n",
       "  'num_applicants': None},\n",
       " {'job_title': 'Python Developer',\n",
       "  'company_name': 'Synechron',\n",
       "  'time_posted': '2 weeks ago',\n",
       "  'num_applicants': '68 applicants'},\n",
       " {'job_title': 'Python Developer',\n",
       "  'company_name': 'Billennium',\n",
       "  'time_posted': '2 weeks ago',\n",
       "  'num_applicants': None},\n",
       " {'job_title': 'Python Developer',\n",
       "  'company_name': 'Synechron',\n",
       "  'time_posted': '2 days ago',\n",
       "  'num_applicants': '74 applicants'},\n",
       " {'job_title': 'Python Developer',\n",
       "  'company_name': 'Apptoza Inc.',\n",
       "  'time_posted': '1 week ago',\n",
       "  'num_applicants': '111 applicants'},\n",
       " {'job_title': 'Python Developer',\n",
       "  'company_name': 'Compunnel Inc.',\n",
       "  'time_posted': '2 weeks ago',\n",
       "  'num_applicants': '108 applicants'}]"
      ]
     },
     "execution_count": 7,
     "metadata": {},
     "output_type": "execute_result"
    }
   ],
   "source": [
    "#Check if the list contains all the desired data\n",
    "job_list"
   ]
  },
  {
   "cell_type": "code",
   "execution_count": 8,
   "id": "3f00ef02",
   "metadata": {},
   "outputs": [
    {
     "data": {
      "text/html": [
       "<div>\n",
       "<style scoped>\n",
       "    .dataframe tbody tr th:only-of-type {\n",
       "        vertical-align: middle;\n",
       "    }\n",
       "\n",
       "    .dataframe tbody tr th {\n",
       "        vertical-align: top;\n",
       "    }\n",
       "\n",
       "    .dataframe thead th {\n",
       "        text-align: right;\n",
       "    }\n",
       "</style>\n",
       "<table border=\"1\" class=\"dataframe\">\n",
       "  <thead>\n",
       "    <tr style=\"text-align: right;\">\n",
       "      <th></th>\n",
       "      <th>job_title</th>\n",
       "      <th>company_name</th>\n",
       "      <th>time_posted</th>\n",
       "      <th>num_applicants</th>\n",
       "    </tr>\n",
       "  </thead>\n",
       "  <tbody>\n",
       "    <tr>\n",
       "      <th>0</th>\n",
       "      <td>Python Developer</td>\n",
       "      <td>Hexaware Technologies</td>\n",
       "      <td>2 days ago</td>\n",
       "      <td>None</td>\n",
       "    </tr>\n",
       "    <tr>\n",
       "      <th>1</th>\n",
       "      <td>Python Developer</td>\n",
       "      <td>Tata Consultancy Services</td>\n",
       "      <td>3 days ago</td>\n",
       "      <td>150 applicants</td>\n",
       "    </tr>\n",
       "    <tr>\n",
       "      <th>2</th>\n",
       "      <td>Python Developer</td>\n",
       "      <td>Tata Consultancy Services</td>\n",
       "      <td>1 week ago</td>\n",
       "      <td>None</td>\n",
       "    </tr>\n",
       "    <tr>\n",
       "      <th>3</th>\n",
       "      <td>Python Developer</td>\n",
       "      <td>Synechron</td>\n",
       "      <td>1 week ago</td>\n",
       "      <td>53 applicants</td>\n",
       "    </tr>\n",
       "    <tr>\n",
       "      <th>4</th>\n",
       "      <td>Python Developer</td>\n",
       "      <td>Tata Consultancy Services</td>\n",
       "      <td>3 weeks ago</td>\n",
       "      <td>None</td>\n",
       "    </tr>\n",
       "    <tr>\n",
       "      <th>5</th>\n",
       "      <td>Python Developer</td>\n",
       "      <td>Synechron</td>\n",
       "      <td>2 weeks ago</td>\n",
       "      <td>68 applicants</td>\n",
       "    </tr>\n",
       "    <tr>\n",
       "      <th>6</th>\n",
       "      <td>Python Developer</td>\n",
       "      <td>Billennium</td>\n",
       "      <td>2 weeks ago</td>\n",
       "      <td>None</td>\n",
       "    </tr>\n",
       "    <tr>\n",
       "      <th>7</th>\n",
       "      <td>Python Developer</td>\n",
       "      <td>Synechron</td>\n",
       "      <td>2 days ago</td>\n",
       "      <td>74 applicants</td>\n",
       "    </tr>\n",
       "    <tr>\n",
       "      <th>8</th>\n",
       "      <td>Python Developer</td>\n",
       "      <td>Apptoza Inc.</td>\n",
       "      <td>1 week ago</td>\n",
       "      <td>111 applicants</td>\n",
       "    </tr>\n",
       "    <tr>\n",
       "      <th>9</th>\n",
       "      <td>Python Developer</td>\n",
       "      <td>Compunnel Inc.</td>\n",
       "      <td>2 weeks ago</td>\n",
       "      <td>108 applicants</td>\n",
       "    </tr>\n",
       "  </tbody>\n",
       "</table>\n",
       "</div>"
      ],
      "text/plain": [
       "          job_title               company_name  time_posted  num_applicants\n",
       "0  Python Developer      Hexaware Technologies   2 days ago            None\n",
       "1  Python Developer  Tata Consultancy Services   3 days ago  150 applicants\n",
       "2  Python Developer  Tata Consultancy Services   1 week ago            None\n",
       "3  Python Developer                  Synechron   1 week ago   53 applicants\n",
       "4  Python Developer  Tata Consultancy Services  3 weeks ago            None\n",
       "5  Python Developer                  Synechron  2 weeks ago   68 applicants\n",
       "6  Python Developer                 Billennium  2 weeks ago            None\n",
       "7  Python Developer                  Synechron   2 days ago   74 applicants\n",
       "8  Python Developer               Apptoza Inc.   1 week ago  111 applicants\n",
       "9  Python Developer             Compunnel Inc.  2 weeks ago  108 applicants"
      ]
     },
     "execution_count": 8,
     "metadata": {},
     "output_type": "execute_result"
    }
   ],
   "source": [
    "# Create a pandas DataFrame using the list of job dictionaries 'job_list'\n",
    "jobs_df = pd.DataFrame(job_list)\n",
    "jobs_df"
   ]
  },
  {
   "cell_type": "code",
   "execution_count": 9,
   "id": "fff37980",
   "metadata": {},
   "outputs": [],
   "source": [
    "#Save data to CSV file\n",
    "jobs_df.to_csv('Toronto_Python_Developer.csv', index = False)"
   ]
  },
  {
   "cell_type": "code",
   "execution_count": null,
   "id": "6206d28c",
   "metadata": {},
   "outputs": [],
   "source": []
  }
 ],
 "metadata": {
  "kernelspec": {
   "display_name": "base",
   "language": "python",
   "name": "python3"
  },
  "language_info": {
   "codemirror_mode": {
    "name": "ipython",
    "version": 3
   },
   "file_extension": ".py",
   "mimetype": "text/x-python",
   "name": "python",
   "nbconvert_exporter": "python",
   "pygments_lexer": "ipython3",
   "version": "3.11.7"
  }
 },
 "nbformat": 4,
 "nbformat_minor": 5
}
